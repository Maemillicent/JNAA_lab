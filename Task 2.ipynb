{
 "cells": [
  {
   "cell_type": "code",
   "execution_count": 2,
   "id": "27ef60fc",
   "metadata": {},
   "outputs": [],
   "source": [
    "import numpy as np"
   ]
  },
  {
   "cell_type": "code",
   "execution_count": 14,
   "id": "288fce75",
   "metadata": {},
   "outputs": [],
   "source": [
    "precip = np.genfromtxt('Tamale_CRU_rainfall.csv', delimiter = ',')"
   ]
  },
  {
   "cell_type": "code",
   "execution_count": 16,
   "id": "0913e522",
   "metadata": {},
   "outputs": [],
   "source": [
    "x = precip[:,0]\n",
    "y = precip[:,8]"
   ]
  },
  {
   "cell_type": "code",
   "execution_count": 7,
   "id": "14db8aa5",
   "metadata": {
    "scrolled": true
   },
   "outputs": [
    {
     "data": {
      "text/plain": [
       "(116, 14)"
      ]
     },
     "execution_count": 7,
     "metadata": {},
     "output_type": "execute_result"
    }
   ],
   "source": [
    "precip.shape"
   ]
  },
  {
   "cell_type": "code",
   "execution_count": 8,
   "id": "4089a4a6",
   "metadata": {
    "scrolled": false
   },
   "outputs": [
    {
     "data": {
      "text/plain": [
       "array([[1.901e+03, 1.300e+00, 1.210e+01, ..., 1.770e+01, 7.000e-01,\n",
       "              nan],\n",
       "       [1.902e+03, 1.800e+00, 6.200e+00, ..., 1.210e+01, 1.030e+01,\n",
       "              nan],\n",
       "       [1.903e+03, 2.000e+00, 2.700e+00, ..., 2.390e+01, 5.800e+00,\n",
       "              nan],\n",
       "       ...,\n",
       "       [2.014e+03, 1.100e+01, 7.400e+00, ..., 2.330e+01, 1.700e+00,\n",
       "              nan],\n",
       "       [2.015e+03, 3.000e-01, 4.620e+01, ..., 7.300e+00, 8.000e-01,\n",
       "              nan],\n",
       "       [      nan,       nan,       nan, ...,       nan,       nan,\n",
       "              nan]])"
      ]
     },
     "execution_count": 8,
     "metadata": {},
     "output_type": "execute_result"
    }
   ],
   "source": [
    "precip"
   ]
  },
  {
   "cell_type": "code",
   "execution_count": 19,
   "id": "25f67c3e",
   "metadata": {},
   "outputs": [],
   "source": [
    "import matplotlib.pyplot as plt "
   ]
  },
  {
   "cell_type": "code",
   "execution_count": 29,
   "id": "36218ec9",
   "metadata": {},
   "outputs": [
    {
     "ename": "SyntaxError",
     "evalue": "invalid syntax (1398603974.py, line 2)",
     "output_type": "error",
     "traceback": [
      "\u001b[1;36m  Input \u001b[1;32mIn [29]\u001b[1;36m\u001b[0m\n\u001b[1;33m    ax.plot(precip[:,0], precip[:, 1],color=\"blue\", lw=1.5, ls=\"--\", marker=\"*\", label=\"Aug\")\u001b[0m\n\u001b[1;37m    ^\u001b[0m\n\u001b[1;31mSyntaxError\u001b[0m\u001b[1;31m:\u001b[0m invalid syntax\n"
     ]
    }
   ],
   "source": [
    "fig,ax = plt.subplots(figure=(10,6)\n",
    "ax.plot(precip[:,0], precip[:, 1],color=\"blue\", lw=1.5, ls=\"--\", marker=\"*\", label=\"Aug\")                      \n",
    "\n",
    " ax.set_ylabel(\"Total Annual Rainfall [mm]\", fontsize=15)\n",
    "ax.set_xlabel(\"August\", fontsize=15)\n",
    "ax.set_title(  \n",
    "    \"Total Annual Rainfall for August \", fontsize=15)\n",
    "ax.legend()\n",
    "\n",
    "                     "
   ]
  },
  {
   "cell_type": "code",
   "execution_count": null,
   "id": "68932db6",
   "metadata": {},
   "outputs": [],
   "source": []
  }
 ],
 "metadata": {
  "kernelspec": {
   "display_name": "Python 3 (ipykernel)",
   "language": "python",
   "name": "python3"
  },
  "language_info": {
   "codemirror_mode": {
    "name": "ipython",
    "version": 3
   },
   "file_extension": ".py",
   "mimetype": "text/x-python",
   "name": "python",
   "nbconvert_exporter": "python",
   "pygments_lexer": "ipython3",
   "version": "3.9.12"
  }
 },
 "nbformat": 4,
 "nbformat_minor": 5
}
