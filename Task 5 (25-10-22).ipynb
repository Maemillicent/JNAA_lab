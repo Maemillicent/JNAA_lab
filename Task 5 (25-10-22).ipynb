{
 "cells": [
  {
   "cell_type": "markdown",
   "id": "143bc37f",
   "metadata": {},
   "source": [
    "TASK 5\n",
    "=="
   ]
  },
  {
   "cell_type": "code",
   "execution_count": 1,
   "id": "3b145581",
   "metadata": {},
   "outputs": [],
   "source": [
    "# import packages\n",
    "import numpy as np"
   ]
  },
  {
   "cell_type": "code",
   "execution_count": 2,
   "id": "d2f6c055",
   "metadata": {},
   "outputs": [],
   "source": [
    "# constants\n",
    "W =273.3 \n",
    "e_o = 6.11 \n",
    "A = 17.27\n",
    "L = 2.45*106\n",
    "R_v = 461\n",
    "\n",
    "# \n",
    "# RH = Relative Humidty in percentage\n",
    "# L = Latent Heat of Vaporisation = (2.45*106) #𝐽𝐾𝑔−1. \n",
    "# R_v = gas constant for water = 461  #𝐽𝐾𝑔−1𝐾−1 "
   ]
  },
  {
   "cell_type": "code",
   "execution_count": 12,
   "id": "3b002187",
   "metadata": {},
   "outputs": [],
   "source": [
    "# Te is the temperature to be inputed by user.\n",
    "def Temp(Te, unit):\n",
    "    if unit.upper()=='C' or unit.upper()=='CELSIUS':\n",
    "        T=Te+273.15\n",
    "        print('Temperature = ', T,'K')\n",
    "        e_s=e_o**(A*T/T+W)\n",
    "        print(\"e_s = \", e_s,'hPa')\n",
    "        cng= L/R_v*(T+273.16)**2\n",
    "        print('Change in e_s = ',e_s)\n",
    "        RH=float(input('Enter RH value: '))\n",
    "        E=e_s*(RH/100)\n",
    "        print('Vapor pressure =',E,'hPa')\n",
    "        \n",
    "#computing the natural log of E/e_o for calculating\n",
    "        b=np.log(E/e_o)\n",
    "        Td=(W*b)/(A-b)\n",
    "        print()\n",
    "        \n",
    "#Converting Td into degree celcius\n",
    "        Td_deg= Td-273.15\n",
    "    \n",
    "# if the unit for the temperature     \n",
    "    elif unit.upper()=='K' or units.upper()=='KELVIN':\n",
    "        T=Te\n",
    "        e_s=e_o**(A*T/T+W)\n",
    "        print(\"e_s = \", e_s,'hPa')\n",
    "        cng= L/R_v*(T+273.16)**2\n",
    "        print('Change in e_s = ',e_s)\n",
    "        RH=float(input('Enter RH value: '))\n",
    "        E=e_s*(RH/100)\n",
    "        print('Vapor pressure =',E,'hPa')\n",
    "        \n",
    "#computing the natural log of E/e_o for calculating\n",
    "        b=np.log(E/e_o)\n",
    "        Td=(W*b)/(A-b)\n",
    "        print()\n",
    "#Converting Dew point temperature Td to degree celcius\n",
    "        Td_deg= Td-273.15\n",
    "    \n",
    "        \n",
    "    return(Td_deg)   \n",
    "        \n",
    "              "
   ]
  },
  {
   "cell_type": "code",
   "execution_count": 13,
   "id": "596deca5",
   "metadata": {},
   "outputs": [
    {
     "name": "stdout",
     "output_type": "stream",
     "text": [
      "e_s =  2.5118543903184776e+228 hPa\n",
      "Change in e_s =  2.5118543903184776e+228\n",
      "Enter RH value: 6\n",
      "Vapor pressure = 1.5071126341910865e+227 hPa\n",
      "\n"
     ]
    },
    {
     "data": {
      "text/plain": [
       "-555.8145456484006"
      ]
     },
     "execution_count": 13,
     "metadata": {},
     "output_type": "execute_result"
    }
   ],
   "source": [
    "Temp(4, 'K')"
   ]
  },
  {
   "cell_type": "code",
   "execution_count": 24,
   "id": "4136ad6e",
   "metadata": {},
   "outputs": [],
   "source": [
    "\n",
    "        "
   ]
  }
 ],
 "metadata": {
  "kernelspec": {
   "display_name": "Python 3 (ipykernel)",
   "language": "python",
   "name": "python3"
  },
  "language_info": {
   "codemirror_mode": {
    "name": "ipython",
    "version": 3
   },
   "file_extension": ".py",
   "mimetype": "text/x-python",
   "name": "python",
   "nbconvert_exporter": "python",
   "pygments_lexer": "ipython3",
   "version": "3.9.12"
  }
 },
 "nbformat": 4,
 "nbformat_minor": 5
}
