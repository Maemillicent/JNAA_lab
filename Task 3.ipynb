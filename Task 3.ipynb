{
 "cells": [
  {
   "cell_type": "markdown",
   "id": "35e4ac67",
   "metadata": {},
   "source": [
    "Greet the user and ask him what operation he likes to perform.\n",
    "=\n",
    "Prompt the customer to input his/her ATM pin, which will be verified.\n",
    "=\n",
    "For 3 wrong attempts, break out of the loop and prompt the user that his card has been blocked. Prompt him to visit the nearest branch for further authentication.\n",
    "=\n",
    "If a correct pin is entered at any instance in the 3 allowed attempts, prompt the user that 'He/She is welcome'. Prompt her to logout when done with her activity. (Allow him/her to type in a given character when done).\n",
    "=\n",
    "Once the right character is entered\n",
    "="
   ]
  },
  {
   "cell_type": "code",
   "execution_count": null,
   "id": "92192f81",
   "metadata": {},
   "outputs": [],
   "source": [
    "\n",
    "trail=0\n",
    "pin= 1212\n",
    "Touch = input('Touch the screen ')\n",
    "print(\"Welcome to MiRhoJoDa mobile banking, choose product or sevice.\")\n",
    "while trail<3:\n",
    "    userpin = int(input('Please enter your pin '))\n",
    "    trail+=1\n",
    "    if userpin==pin:\n",
    "        print('Welcome \\n Please remember to logout when done with your transaction \\n Thank you')\n",
    "        if userpin==pin:\n",
    "            Exit=input('Enter any number to logout')\n",
    "            print('Thanks for banking with Us')\n",
    "        \n",
    "        break   \n",
    "        \n",
    "                    \n",
    "            \n",
    "    \n",
    "else:\n",
    "    print(\"Your pin is incorrect\\n Your pin has been blocked\")\n",
    "\n",
    "    \n",
    "    \n",
    "    \n",
    "    \n",
    "    \n",
    "   "
   ]
  },
  {
   "cell_type": "code",
   "execution_count": 74,
   "id": "317ac6df",
   "metadata": {},
   "outputs": [],
   "source": [
    "# Touch = input('Touch the screen ')\n",
    "# print(\"Welcome to D mobile banking, choose product or sevice.\")\n",
    "# pin = int(input('Please enter your pin '))\n",
    "\n",
    "# Pin=1212\n",
    "# while True:   \n",
    "#     print('Welcome \\n Please remember to logout when done with your transaction \\n Thank you')\n",
    "#     menu_choice = input(\"what would you like to have?: \")   \n",
    "#     if menu_choice == 'none':\n",
    "#         break   \n",
    "#     if menu_choice in menu:\n",
    "#         food = menu.get(menu_choice)\n",
    "#         print(food) \n",
    "#     else: \n",
    "#         print (\"we don't have \" + menu_choice) -->"
   ]
  },
  {
   "cell_type": "code",
   "execution_count": null,
   "id": "b22555b0",
   "metadata": {},
   "outputs": [],
   "source": [
    "# Trials = 3\n",
    "# Touch = input('Touch the screen ')\n",
    "# print(\"Welcome to JEI E-banking, choose product or sevice.\")\n",
    "# Pin=1212\n",
    "\n",
    "# while Trials !=0:\n",
    "#         userpin = int(input('Please enter your pin '))\n",
    "#         Trails-=1\n",
    "#         if print=\n",
    "#         print('Welcome \\n Please remember to logout when done with your transaction \\n Thank you')\n",
    "\n",
    "    "
   ]
  },
  {
   "cell_type": "code",
   "execution_count": null,
   "id": "90e052ba",
   "metadata": {},
   "outputs": [],
   "source": []
  },
  {
   "cell_type": "code",
   "execution_count": null,
   "id": "e7a9324b",
   "metadata": {},
   "outputs": [],
   "source": []
  }
 ],
 "metadata": {
  "kernelspec": {
   "display_name": "Python 3 (ipykernel)",
   "language": "python",
   "name": "python3"
  },
  "language_info": {
   "codemirror_mode": {
    "name": "ipython",
    "version": 3
   },
   "file_extension": ".py",
   "mimetype": "text/x-python",
   "name": "python",
   "nbconvert_exporter": "python",
   "pygments_lexer": "ipython3",
   "version": "3.9.12"
  }
 },
 "nbformat": 4,
 "nbformat_minor": 5
}
