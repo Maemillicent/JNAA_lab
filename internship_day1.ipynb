{
 "cells": [
  {
   "cell_type": "code",
   "execution_count": null,
   "id": "be190449",
   "metadata": {},
   "outputs": [],
   "source": [
    "DAY 1"
   ]
  },
  {
   "cell_type": "markdown",
   "id": "24f65437",
   "metadata": {},
   "source": [
    "COMMENTS AND HEADINGS\n",
    "="
   ]
  },
  {
   "cell_type": "code",
   "execution_count": 1,
   "id": "09667d70",
   "metadata": {},
   "outputs": [
    {
     "name": "stdout",
     "output_type": "stream",
     "text": [
      "we four\n"
     ]
    }
   ],
   "source": [
    "print('we four')\n"
   ]
  },
  {
   "cell_type": "code",
   "execution_count": 2,
   "id": "1e3f7d68",
   "metadata": {},
   "outputs": [],
   "source": [
    "# i love fruits"
   ]
  },
  {
   "cell_type": "code",
   "execution_count": 4,
   "id": "66f3e367",
   "metadata": {},
   "outputs": [],
   "source": [
    "i love fruits"
   ]
  },
  {
   "cell_type": "code",
   "execution_count": null,
   "id": "7cb89c7b",
   "metadata": {},
   "outputs": [],
   "source": [
    "''''''"
   ]
  },
  {
   "cell_type": "markdown",
   "id": "1af39d2c",
   "metadata": {},
   "source": [
    "DATA TYPES\n",
    "="
   ]
  },
  {
   "cell_type": "code",
   "execution_count": 6,
   "id": "68aa998e",
   "metadata": {},
   "outputs": [
    {
     "data": {
      "text/plain": [
       "10"
      ]
     },
     "execution_count": 6,
     "metadata": {},
     "output_type": "execute_result"
    }
   ],
   "source": [
    "10"
   ]
  },
  {
   "cell_type": "code",
   "execution_count": 7,
   "id": "a718354d",
   "metadata": {},
   "outputs": [
    {
     "data": {
      "text/plain": [
       "int"
      ]
     },
     "execution_count": 7,
     "metadata": {},
     "output_type": "execute_result"
    }
   ],
   "source": [
    "type(10)"
   ]
  },
  {
   "cell_type": "code",
   "execution_count": 8,
   "id": "4878c91a",
   "metadata": {},
   "outputs": [
    {
     "data": {
      "text/plain": [
       "float"
      ]
     },
     "execution_count": 8,
     "metadata": {},
     "output_type": "execute_result"
    }
   ],
   "source": [
    "type(15.72)"
   ]
  },
  {
   "cell_type": "code",
   "execution_count": 10,
   "id": "1247d2dd",
   "metadata": {},
   "outputs": [
    {
     "data": {
      "text/plain": [
       "str"
      ]
     },
     "execution_count": 10,
     "metadata": {},
     "output_type": "execute_result"
    }
   ],
   "source": [
    "type('Mae')"
   ]
  },
  {
   "cell_type": "code",
   "execution_count": 11,
   "id": "eb74d55d",
   "metadata": {},
   "outputs": [
    {
     "data": {
      "text/plain": [
       "[23, 13, 26, 4, 53]"
      ]
     },
     "execution_count": 11,
     "metadata": {},
     "output_type": "execute_result"
    }
   ],
   "source": [
    "[23,13,26,4,53]"
   ]
  },
  {
   "cell_type": "code",
   "execution_count": 12,
   "id": "d5a86df9",
   "metadata": {},
   "outputs": [
    {
     "data": {
      "text/plain": [
       "list"
      ]
     },
     "execution_count": 12,
     "metadata": {},
     "output_type": "execute_result"
    }
   ],
   "source": [
    "type([23, 13, 26, 4, 53])"
   ]
  },
  {
   "cell_type": "code",
   "execution_count": null,
   "id": "c9f5a97d",
   "metadata": {},
   "outputs": [],
   "source": []
  },
  {
   "cell_type": "code",
   "execution_count": 13,
   "id": "a2d73aeb",
   "metadata": {},
   "outputs": [],
   "source": [
    "a=[23, 13, 26, 4, 53]"
   ]
  },
  {
   "cell_type": "code",
   "execution_count": 15,
   "id": "9fa41789",
   "metadata": {},
   "outputs": [
    {
     "data": {
      "text/plain": [
       "list"
      ]
     },
     "execution_count": 15,
     "metadata": {},
     "output_type": "execute_result"
    }
   ],
   "source": [
    "type (a)"
   ]
  },
  {
   "cell_type": "markdown",
   "id": "4d96733b",
   "metadata": {},
   "source": [
    "VARIABLE ASSIGNMENT\n",
    "=\n"
   ]
  },
  {
   "cell_type": "code",
   "execution_count": 16,
   "id": "9c81d511",
   "metadata": {},
   "outputs": [],
   "source": [
    "a=5\n",
    "b=15"
   ]
  },
  {
   "cell_type": "code",
   "execution_count": 17,
   "id": "8a5c7e7d",
   "metadata": {},
   "outputs": [],
   "source": [
    "zz=a+b"
   ]
  },
  {
   "cell_type": "code",
   "execution_count": 18,
   "id": "8bc38062",
   "metadata": {},
   "outputs": [
    {
     "data": {
      "text/plain": [
       "20"
      ]
     },
     "execution_count": 18,
     "metadata": {},
     "output_type": "execute_result"
    }
   ],
   "source": [
    "zz"
   ]
  },
  {
   "cell_type": "code",
   "execution_count": 19,
   "id": "9ed39c22",
   "metadata": {},
   "outputs": [],
   "source": [
    "x=70\n",
    "y=13"
   ]
  },
  {
   "cell_type": "code",
   "execution_count": 20,
   "id": "4b5e9a61",
   "metadata": {},
   "outputs": [],
   "source": [
    "zz=x-y"
   ]
  },
  {
   "cell_type": "code",
   "execution_count": 21,
   "id": "da1d8e3c",
   "metadata": {},
   "outputs": [
    {
     "data": {
      "text/plain": [
       "57"
      ]
     },
     "execution_count": 21,
     "metadata": {},
     "output_type": "execute_result"
    }
   ],
   "source": [
    "zz"
   ]
  },
  {
   "cell_type": "code",
   "execution_count": 22,
   "id": "04568bc6",
   "metadata": {},
   "outputs": [
    {
     "data": {
      "text/plain": [
       "44"
      ]
     },
     "execution_count": 22,
     "metadata": {},
     "output_type": "execute_result"
    }
   ],
   "source": [
    "zz-y"
   ]
  },
  {
   "cell_type": "markdown",
   "id": "57b7ff98",
   "metadata": {},
   "source": [
    "PRINT STATEMENT\n",
    "="
   ]
  },
  {
   "cell_type": "code",
   "execution_count": 27,
   "id": "45f2c505",
   "metadata": {},
   "outputs": [
    {
     "name": "stdout",
     "output_type": "stream",
     "text": [
      "i love fried plantain\n"
     ]
    }
   ],
   "source": [
    "print('i love fried plantain')"
   ]
  },
  {
   "cell_type": "code",
   "execution_count": 28,
   "id": "fcae4e7e",
   "metadata": {},
   "outputs": [
    {
     "name": "stdout",
     "output_type": "stream",
     "text": [
      "i love fried plantain\n",
      " i love the taste of it\n"
     ]
    }
   ],
   "source": [
    "print('i love fried plantain\\n i love the taste of it')"
   ]
  },
  {
   "cell_type": "code",
   "execution_count": 30,
   "id": "efb0f0ed",
   "metadata": {},
   "outputs": [
    {
     "name": "stdout",
     "output_type": "stream",
     "text": [
      "question 1 is A\n",
      "question 2 is B\n"
     ]
    }
   ],
   "source": [
    "print('question 1 is A\\nquestion 2 is B')"
   ]
  },
  {
   "cell_type": "code",
   "execution_count": 31,
   "id": "03a0a196",
   "metadata": {},
   "outputs": [
    {
     "name": "stdout",
     "output_type": "stream",
     "text": [
      "\n"
     ]
    }
   ],
   "source": [
    "print('')"
   ]
  },
  {
   "cell_type": "code",
   "execution_count": 32,
   "id": "6d33c65a",
   "metadata": {},
   "outputs": [
    {
     "name": "stdout",
     "output_type": "stream",
     "text": [
      "My name is Mae\n",
      "I am a proud voltarian\n"
     ]
    }
   ],
   "source": [
    "print('My name is Mae\\nI am a proud voltarian')"
   ]
  },
  {
   "cell_type": "code",
   "execution_count": 34,
   "id": "357f9746",
   "metadata": {},
   "outputs": [
    {
     "name": "stdout",
     "output_type": "stream",
     "text": [
      "57\n"
     ]
    }
   ],
   "source": [
    "print(zz)"
   ]
  },
  {
   "cell_type": "code",
   "execution_count": 35,
   "id": "7bea04dd",
   "metadata": {},
   "outputs": [],
   "source": [
    "Course='Meteorology and  climate science' "
   ]
  },
  {
   "cell_type": "code",
   "execution_count": 39,
   "id": "b8ff6c0d",
   "metadata": {},
   "outputs": [
    {
     "data": {
      "text/plain": [
       "32"
      ]
     },
     "execution_count": 39,
     "metadata": {},
     "output_type": "execute_result"
    }
   ],
   "source": [
    "len(Course)"
   ]
  },
  {
   "cell_type": "code",
   "execution_count": 41,
   "id": "f34077c0",
   "metadata": {},
   "outputs": [
    {
     "data": {
      "text/plain": [
       "'Me'"
      ]
     },
     "execution_count": 41,
     "metadata": {},
     "output_type": "execute_result"
    }
   ],
   "source": [
    "Course[0:2]"
   ]
  },
  {
   "cell_type": "code",
   "execution_count": 42,
   "id": "921ab072",
   "metadata": {},
   "outputs": [
    {
     "data": {
      "text/plain": [
       "'Mtoooyad lmt cec'"
      ]
     },
     "execution_count": 42,
     "metadata": {},
     "output_type": "execute_result"
    }
   ],
   "source": [
    "Course[0::2]"
   ]
  },
  {
   "cell_type": "markdown",
   "id": "13e6dbab",
   "metadata": {},
   "source": [
    "CONCATINATION\n",
    "="
   ]
  },
  {
   "cell_type": "code",
   "execution_count": 47,
   "id": "15fef090",
   "metadata": {},
   "outputs": [],
   "source": [
    "a='meteorology '\n",
    "b='and'\n",
    "c='climate'\n",
    "d='science'"
   ]
  },
  {
   "cell_type": "code",
   "execution_count": 48,
   "id": "bb75b55e",
   "metadata": {},
   "outputs": [
    {
     "name": "stdout",
     "output_type": "stream",
     "text": [
      "meteorology andclimatescience\n"
     ]
    }
   ],
   "source": [
    "print(a+b+c+d)"
   ]
  },
  {
   "cell_type": "code",
   "execution_count": 53,
   "id": "32fbab63",
   "metadata": {},
   "outputs": [
    {
     "name": "stdout",
     "output_type": "stream",
     "text": [
      "vote for Rhoda 2023\n",
      "vote for Rhoda 2023\n",
      "vote for Rhoda 2023\n",
      "vote for Rhoda 2023\n",
      "vote for Rhoda 2023\n",
      "vote for Rhoda 2023\n",
      "vote for Rhoda 2023\n",
      "vote for Rhoda 2023\n",
      "vote for Rhoda 2023\n",
      "vote for Rhoda 2023\n",
      "vote for Rhoda 2023\n",
      "vote for Rhoda 2023\n",
      "vote for Rhoda 2023\n",
      "vote for Rhoda 2023\n",
      "vote for Rhoda 2023\n",
      "\n"
     ]
    }
   ],
   "source": [
    "print('vote for Rhoda 2023\\n' *15)"
   ]
  },
  {
   "cell_type": "markdown",
   "id": "95d48533",
   "metadata": {},
   "source": [
    "FORMATING STRINGS\n",
    "="
   ]
  },
  {
   "cell_type": "code",
   "execution_count": 55,
   "id": "8bed09ec",
   "metadata": {},
   "outputs": [],
   "source": [
    "a='MY MOTHER IS THE SWEETEST PERSON I HAVE EVER MET'"
   ]
  },
  {
   "cell_type": "code",
   "execution_count": 56,
   "id": "f73c559f",
   "metadata": {},
   "outputs": [
    {
     "data": {
      "text/plain": [
       "'my mother is the sweetest person i have ever met'"
      ]
     },
     "execution_count": 56,
     "metadata": {},
     "output_type": "execute_result"
    }
   ],
   "source": [
    "a.lower()"
   ]
  },
  {
   "cell_type": "code",
   "execution_count": 57,
   "id": "7980238f",
   "metadata": {},
   "outputs": [
    {
     "data": {
      "text/plain": [
       "'My mother is the sweetest person i have ever met'"
      ]
     },
     "execution_count": 57,
     "metadata": {},
     "output_type": "execute_result"
    }
   ],
   "source": [
    "a.capitalize()"
   ]
  },
  {
   "cell_type": "code",
   "execution_count": 58,
   "id": "8b387dc6",
   "metadata": {
    "scrolled": true
   },
   "outputs": [
    {
     "data": {
      "text/plain": [
       "'MY MOTHER IS THE SWEETEST PERSON I HAVE EVER MET'"
      ]
     },
     "execution_count": 58,
     "metadata": {},
     "output_type": "execute_result"
    }
   ],
   "source": [
    "a.upper()"
   ]
  },
  {
   "cell_type": "code",
   "execution_count": 61,
   "id": "74be7fb3",
   "metadata": {},
   "outputs": [
    {
     "data": {
      "text/plain": [
       "<function str.split(sep=None, maxsplit=-1)>"
      ]
     },
     "execution_count": 61,
     "metadata": {},
     "output_type": "execute_result"
    }
   ],
   "source": [
    "a.split"
   ]
  },
  {
   "cell_type": "code",
   "execution_count": 64,
   "id": "03384e91",
   "metadata": {},
   "outputs": [
    {
     "data": {
      "text/plain": [
       "'MY father IS THE SWEETEST PERSON I HAVE EVER MET'"
      ]
     },
     "execution_count": 64,
     "metadata": {},
     "output_type": "execute_result"
    }
   ],
   "source": [
    "a.replace('MOTHER','father')"
   ]
  },
  {
   "cell_type": "code",
   "execution_count": 69,
   "id": "79974d75",
   "metadata": {},
   "outputs": [],
   "source": [
    "first='welcome to the {year} {prog} organised by {organizers}'.format(year='2022',prog= 'seminar', organizers='department of physics')"
   ]
  },
  {
   "cell_type": "markdown",
   "id": "865d01f6",
   "metadata": {},
   "source": [
    "BASIC ARITHMETIC\n",
    "="
   ]
  },
  {
   "cell_type": "code",
   "execution_count": null,
   "id": "3139fefa",
   "metadata": {},
   "outputs": [],
   "source": [
    "#Floor division means working with only the whole part after a division"
   ]
  },
  {
   "cell_type": "markdown",
   "id": "77722c1c",
   "metadata": {},
   "source": [
    "BOOLEAN DATA TYPE\n",
    "="
   ]
  },
  {
   "cell_type": "code",
   "execution_count": 71,
   "id": "ebefaac8",
   "metadata": {},
   "outputs": [
    {
     "data": {
      "text/plain": [
       "False"
      ]
     },
     "execution_count": 71,
     "metadata": {},
     "output_type": "execute_result"
    }
   ],
   "source": [
    "2>5"
   ]
  },
  {
   "cell_type": "code",
   "execution_count": 72,
   "id": "03996eb7",
   "metadata": {},
   "outputs": [
    {
     "data": {
      "text/plain": [
       "False"
      ]
     },
     "execution_count": 72,
     "metadata": {},
     "output_type": "execute_result"
    }
   ],
   "source": [
    "11.2==11.22"
   ]
  },
  {
   "cell_type": "code",
   "execution_count": 74,
   "id": "f3b51e4c",
   "metadata": {},
   "outputs": [
    {
     "data": {
      "text/plain": [
       "bool"
      ]
     },
     "execution_count": 74,
     "metadata": {},
     "output_type": "execute_result"
    }
   ],
   "source": [
    "type(2>5)"
   ]
  },
  {
   "cell_type": "markdown",
   "id": "aa142756",
   "metadata": {},
   "source": [
    "DICTIONARY\n",
    "="
   ]
  },
  {
   "cell_type": "code",
   "execution_count": 77,
   "id": "d84cfd5a",
   "metadata": {},
   "outputs": [],
   "source": [
    "x={\n",
    "'name': 'Mae',\n",
    "'sex': 'Female',\n",
    "'contact':'0541449555'}"
   ]
  },
  {
   "cell_type": "code",
   "execution_count": 78,
   "id": "26c94779",
   "metadata": {},
   "outputs": [
    {
     "data": {
      "text/plain": [
       "dict"
      ]
     },
     "execution_count": 78,
     "metadata": {},
     "output_type": "execute_result"
    }
   ],
   "source": [
    "type(x)"
   ]
  },
  {
   "cell_type": "markdown",
   "id": "b97dcb3b",
   "metadata": {},
   "source": [
    "MAKING COMPARISON\n",
    "="
   ]
  },
  {
   "cell_type": "code",
   "execution_count": 79,
   "id": "9c4d3720",
   "metadata": {},
   "outputs": [
    {
     "data": {
      "text/plain": [
       "True"
      ]
     },
     "execution_count": 79,
     "metadata": {},
     "output_type": "execute_result"
    }
   ],
   "source": [
    "2<=10"
   ]
  },
  {
   "cell_type": "markdown",
   "id": "27b10977",
   "metadata": {},
   "source": [
    "LOGICAL OPERATORS\n",
    "="
   ]
  },
  {
   "cell_type": "code",
   "execution_count": 82,
   "id": "22b2d25a",
   "metadata": {},
   "outputs": [
    {
     "data": {
      "text/plain": [
       "False"
      ]
     },
     "execution_count": 82,
     "metadata": {},
     "output_type": "execute_result"
    }
   ],
   "source": [
    "(5<2) & (5>3)"
   ]
  },
  {
   "cell_type": "code",
   "execution_count": null,
   "id": "74561bc0",
   "metadata": {},
   "outputs": [],
   "source": [
    "the above statement will show true when both statements are true"
   ]
  },
  {
   "cell_type": "code",
   "execution_count": 83,
   "id": "863decd6",
   "metadata": {},
   "outputs": [],
   "source": [
    "x = 5"
   ]
  },
  {
   "cell_type": "code",
   "execution_count": 84,
   "id": "05d5a6a9",
   "metadata": {},
   "outputs": [
    {
     "name": "stdout",
     "output_type": "stream",
     "text": [
      "x equals 5\n"
     ]
    }
   ],
   "source": [
    "if x == 5 :\n",
    "    print('x equals 5')"
   ]
  },
  {
   "cell_type": "code",
   "execution_count": 85,
   "id": "386afa70",
   "metadata": {},
   "outputs": [],
   "source": [
    "if x ==6:\n",
    "    print('x is not equal to 5')"
   ]
  },
  {
   "cell_type": "code",
   "execution_count": 86,
   "id": "68e5815e",
   "metadata": {},
   "outputs": [
    {
     "name": "stdout",
     "output_type": "stream",
     "text": [
      "x=4\n"
     ]
    }
   ],
   "source": [
    "if x > 4:\n",
    "    print('x=4')"
   ]
  },
  {
   "cell_type": "markdown",
   "id": "c12f323b",
   "metadata": {},
   "source": [
    "INPUT\n",
    "="
   ]
  },
  {
   "cell_type": "markdown",
   "id": "349cab76",
   "metadata": {},
   "source": [
    "Name = input('enter your name')\n",
    "if name = Mawunyo\n",
    "else\n",
    "print('i don't know you plesase')"
   ]
  },
  {
   "cell_type": "code",
   "execution_count": 92,
   "id": "98b54021",
   "metadata": {},
   "outputs": [
    {
     "name": "stdout",
     "output_type": "stream",
     "text": [
      "enter your nameMawunyo\n",
      "You are welcome Mawunyo\n"
     ]
    }
   ],
   "source": [
    "Name = input('enter your name')\n",
    "if Name == 'Mawunyo':\n",
    "    print('You are welcome',Name)\n",
    "else:\n",
    "        print(\"i don't know you please\")"
   ]
  },
  {
   "cell_type": "code",
   "execution_count": 94,
   "id": "43b037ef",
   "metadata": {},
   "outputs": [
    {
     "name": "stdout",
     "output_type": "stream",
     "text": [
      "enter your orderjollof\n",
      "welcome avaible for: order jollof\n"
     ]
    }
   ],
   "source": [
    "dish = input('enter your order')\n",
    "if dish == 'jollof':\n",
    "    print('welcome avaible for: order',dish)\n",
    "else:\n",
    "    print('order unavailable')"
   ]
  },
  {
   "cell_type": "markdown",
   "id": "72f2c2c5",
   "metadata": {},
   "source": [
    "NESTED LOOP\n",
    "="
   ]
  },
  {
   "cell_type": "code",
   "execution_count": 106,
   "id": "e88edba5",
   "metadata": {},
   "outputs": [],
   "source": [
    "# Nested loop contains another loop."
   ]
  },
  {
   "cell_type": "code",
   "execution_count": 110,
   "id": "601bf261",
   "metadata": {},
   "outputs": [
    {
     "name": "stdout",
     "output_type": "stream",
     "text": [
      "\tStudent scored a passing grade\n",
      "\tpassed with A\n",
      "\tsudent scored with A+\n"
     ]
    }
   ],
   "source": [
    "grade = 100\n",
    "if grade > 60:\n",
    "    print(\"\\tStudent scored a passing grade\")\n",
    "    if grade >= 90:\n",
    "        print(\"\\tpassed with A\")\n",
    "        if grade >=90:\n",
    "            print('\\tsudent scored with A+')"
   ]
  },
  {
   "cell_type": "markdown",
   "id": "1027504c",
   "metadata": {},
   "source": []
  },
  {
   "cell_type": "code",
   "execution_count": 6,
   "id": "d0b1b973",
   "metadata": {},
   "outputs": [
    {
     "name": "stdout",
     "output_type": "stream",
     "text": [
      "enter a grade65\n",
      "B\n"
     ]
    }
   ],
   "source": [
    "grade =int(input('enter a grade'))\n",
    "if grade >= 70 and grade<=100:\n",
    "            print('A')\n",
    "elif grade <70 and grade >=60:\n",
    "           print('B')\n",
    "elif grade <60 and grade >50:\n",
    "           print('C')\n",
    "elif grade <50 and grade >40:\n",
    "           print('D')\n",
    "else:\n",
    "     print('F')\n",
    "\n"
   ]
  },
  {
   "cell_type": "markdown",
   "id": "6a58a219",
   "metadata": {},
   "source": [
    "DAY 2\n",
    "="
   ]
  },
  {
   "cell_type": "code",
   "execution_count": null,
   "id": "24fcd556",
   "metadata": {},
   "outputs": [],
   "source": [
    "  "
   ]
  }
 ],
 "metadata": {
  "kernelspec": {
   "display_name": "Python 3 (ipykernel)",
   "language": "python",
   "name": "python3"
  },
  "language_info": {
   "codemirror_mode": {
    "name": "ipython",
    "version": 3
   },
   "file_extension": ".py",
   "mimetype": "text/x-python",
   "name": "python",
   "nbconvert_exporter": "python",
   "pygments_lexer": "ipython3",
   "version": "3.9.12"
  }
 },
 "nbformat": 4,
 "nbformat_minor": 5
}
